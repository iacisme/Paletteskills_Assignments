{
 "cells": [
  {
   "attachments": {},
   "cell_type": "markdown",
   "metadata": {},
   "source": [
    "**Please follow the instructions. Do not add new cell! Write your code in designated areas.**"
   ]
  },
  {
   "cell_type": "code",
   "execution_count": 1,
   "metadata": {},
   "outputs": [
    {
     "name": "stdout",
     "output_type": "stream",
     "text": [
      "Assignment 1: Solutions by John\n",
      "Local Time: 2024-02-01 18:35:22\n",
      "Computer ID: VENOEN-16GB\n"
     ]
    }
   ],
   "source": [
    "import datetime\n",
    "import socket\n",
    "\n",
    "# Get local time\n",
    "local_time = datetime.datetime.now().strftime(\"%Y-%m-%d %H:%M:%S\")\n",
    "\n",
    "# Get computer ID or hostname\n",
    "computer_id = socket.gethostname()\n",
    "\n",
    "# Print output with local time and computer ID\n",
    "print('Assignment 1: Solutions by John') # Please change your name here\n",
    "print('Local Time:', local_time)\n",
    "print('Computer ID:', computer_id)"
   ]
  },
  {
   "cell_type": "markdown",
   "metadata": {},
   "source": [
    "**Note that you have to run this code in your local engine to pass the assignments**"
   ]
  },
  {
   "attachments": {},
   "cell_type": "markdown",
   "metadata": {},
   "source": [
    "# Assignment 1"
   ]
  },
  {
   "attachments": {},
   "cell_type": "markdown",
   "metadata": {},
   "source": [
    "## Exercise 1: String Manipulation"
   ]
  },
  {
   "attachments": {},
   "cell_type": "markdown",
   "metadata": {},
   "source": [
    "Develop a function that accepts a string parameter indicating a crop name and gives back the crop name in capital letters. Hints: str, upper(), def"
   ]
  },
  {
   "cell_type": "code",
   "execution_count": 5,
   "metadata": {},
   "outputs": [
    {
     "name": "stdin",
     "output_type": "stream",
     "text": [
      "Please enter a crop name: igor\n"
     ]
    },
    {
     "name": "stdout",
     "output_type": "stream",
     "text": [
      "You have entered an invalid crop name, please try again\n"
     ]
    }
   ],
   "source": [
    "## Your code here down\n",
    "\n",
    "# List of acceptable crop names\n",
    "cropName_list = [\n",
    "    \"lentil\",\n",
    "    \"barley\",\n",
    "    \"canola\",\n",
    "    \"spring\",\n",
    "    \"wheat\",\n",
    "    \"durum\",\n",
    "    \"wheat\",\n",
    "    \"oats\",\n",
    "    \"alfalfa\"\n",
    "]\n",
    "\n",
    "def changeNameToCapital(cropName):\n",
    "    \"\"\"\n",
    "        Function to change the crop name to upper case letters.\n",
    "        Function works by first checking to see if the name is valid.\n",
    "        If the crop name is valid, then it will convert it to capital letters\n",
    "    \"\"\"\n",
    "\n",
    "    # Check to confirm if the crop name is a valid one\n",
    "    if cropName in cropName_list:\n",
    "        cropName_capitalized = cropName.upper()\n",
    "        print()\n",
    "        print(f\"The capitalized version of {cropName} is {cropName_capitalized}\")\n",
    "    else:\n",
    "        print(\"You have entered an invalid crop name, please try again\")\n",
    "        \n",
    "# Get a user input for a crop name\n",
    "cropName = input(\"Please enter a crop name:\")\n",
    "\n",
    "# Capitalize the crop name\n",
    "changeNameToCapital(cropName)\n",
    "\n",
    "## Your code here up"
   ]
  },
  {
   "attachments": {},
   "cell_type": "markdown",
   "metadata": {},
   "source": [
    "## Exercise 2: Crop Count"
   ]
  },
  {
   "attachments": {},
   "cell_type": "markdown",
   "metadata": {},
   "source": [
    "Create a function that receives a list of crop names (lentil, barley, canola, spring wheat, durum wheat, oats, alfalfa) and outputs the total number of crops. Hints: list, length, def."
   ]
  },
  {
   "cell_type": "code",
   "execution_count": 6,
   "metadata": {},
   "outputs": [
    {
     "name": "stdout",
     "output_type": "stream",
     "text": [
      "The total number of crops is: 9\n"
     ]
    }
   ],
   "source": [
    "## Your code here down\n",
    "\n",
    "# List of crop names\n",
    "cropName_list = [\n",
    "    \"lentil\",\n",
    "    \"barley\",\n",
    "    \"canola\",\n",
    "    \"spring\",\n",
    "    \"wheat\",\n",
    "    \"durum\",\n",
    "    \"wheat\",\n",
    "    \"oats\",\n",
    "    \"alfalfa\"\n",
    "]\n",
    "\n",
    "def totalNumberOfCrops(cropName_list):\n",
    "    \"\"\"\n",
    "        Function recieves a list of crops by name, and determines the total number of crop types\n",
    "        within the list\n",
    "    \"\"\"\n",
    "\n",
    "    # Count the total number of crops in the list\n",
    "    totalCrops = len(cropName_list)\n",
    "    \n",
    "    # Display the total number of crops\n",
    "    print(\"The total number of crops is:\", totalCrops)\n",
    "\n",
    "# Calculate the total number of crops in the list\n",
    "totalNumberOfCrops(cropName_list)\n",
    "\n",
    "## Your code here up"
   ]
  },
  {
   "attachments": {},
   "cell_type": "markdown",
   "metadata": {},
   "source": [
    "## Exercise 3: Temperature Conversion"
   ]
  },
  {
   "attachments": {},
   "cell_type": "markdown",
   "metadata": {},
   "source": [
    "Create a function that takes a temperature in Celsius and converts it to Fahrenheit. Return the converted temperature. Keys:def, find converter."
   ]
  },
  {
   "cell_type": "code",
   "execution_count": 8,
   "metadata": {},
   "outputs": [
    {
     "name": "stdin",
     "output_type": "stream",
     "text": [
      "Please enter a temperature in Celsius 45\n"
     ]
    },
    {
     "name": "stdout",
     "output_type": "stream",
     "text": [
      "45.0 Celsius is equal to 113.0\n"
     ]
    }
   ],
   "source": [
    "## Your code here down\n",
    "\n",
    "def convertCelsiusToFarenheit(degC):\n",
    "    \"\"\"\n",
    "        Function converts a user input in degrees Celsius and converts it to Fahrenheit\n",
    "        using the following conversion factor:\n",
    "\n",
    "        degF = (degC * 1.8 ) + 32\n",
    "\n",
    "        The function first checks if the input is valid\n",
    "    \"\"\"\n",
    "\n",
    "    # Confirm that the user input is a valid number\n",
    "    try:\n",
    "        # Convert the string to a float\n",
    "        degC = float(degC)\n",
    "    except:\n",
    "        print(f\"{degC} is not a valid number, please try again and enter a valid number.\")\n",
    "\n",
    "\n",
    "    # Convert Deg C to Deg F\n",
    "    degF = (degC * 1.8) + 32\n",
    "\n",
    "    # Dispaly the converted temperature to the user\n",
    "    print()\n",
    "    print(f\"{degC} Celsius is equal to {degF}\")\n",
    "\n",
    "# Get a temperature input from the user\n",
    "celsius = input(\"Please enter a temperature in Celsius\")\n",
    "\n",
    "convertCelsiusToFarenheit(celsius)\n",
    "## Your code here up"
   ]
  },
  {
   "attachments": {},
   "cell_type": "markdown",
   "metadata": {},
   "source": [
    "## Exercise 4: Crop Harvest"
   ]
  },
  {
   "attachments": {},
   "cell_type": "markdown",
   "metadata": {},
   "source": [
    "Create a function that takes the yield of canola crop (in bushels) and returns a string indicating whether it's a high, moderate, or low yield. Keys: strings, if-else, print()"
   ]
  },
  {
   "cell_type": "code",
   "execution_count": null,
   "metadata": {},
   "outputs": [],
   "source": [
    "## Your code here down\n",
    "\n",
    "\n",
    "## Your code here up"
   ]
  },
  {
   "attachments": {},
   "cell_type": "markdown",
   "metadata": {},
   "source": [
    "## Exercise 5: Crop Average"
   ]
  },
  {
   "attachments": {},
   "cell_type": "markdown",
   "metadata": {},
   "source": [
    "Create a function that takes a list of crop yields (spring wheat) and returns the average yield. Keys: list, average() or arithmetic average."
   ]
  },
  {
   "cell_type": "code",
   "execution_count": null,
   "metadata": {},
   "outputs": [],
   "source": [
    "## Your code here down\n",
    "\n",
    "\n",
    "## Your code here up"
   ]
  },
  {
   "attachments": {},
   "cell_type": "markdown",
   "metadata": {},
   "source": [
    "## Exercise 6: Crop Recommendation"
   ]
  },
  {
   "attachments": {},
   "cell_type": "markdown",
   "metadata": {},
   "source": [
    "Create a function that takes the type of soil (brown, dark brown, black) as a parameter and returns a recommended crop (lentil, canola, oats) for that soil type. Keys: dict, def"
   ]
  },
  {
   "cell_type": "code",
   "execution_count": null,
   "metadata": {},
   "outputs": [],
   "source": [
    "## Your code here down\n",
    "\n",
    "\n",
    "## Your code here up"
   ]
  },
  {
   "attachments": {},
   "cell_type": "markdown",
   "metadata": {},
   "source": [
    "## Exercise 7: Crop Rotation"
   ]
  },
  {
   "attachments": {},
   "cell_type": "markdown",
   "metadata": {},
   "source": [
    "Create a function that takes a list of crop names (lentil, barly, canola, spring wheat, durum wheat, oats) and rotates the crops by moving the last crop to the beginning of the list. Keys: list and list index, def."
   ]
  },
  {
   "cell_type": "code",
   "execution_count": null,
   "metadata": {},
   "outputs": [],
   "source": [
    "## Your code here down\n",
    "\n",
    "\n",
    "## Your code here up"
   ]
  },
  {
   "attachments": {},
   "cell_type": "markdown",
   "metadata": {},
   "source": [
    "# Exercise 8: Rainfall Analysis"
   ]
  },
  {
   "attachments": {},
   "cell_type": "markdown",
   "metadata": {},
   "source": [
    "Create a function that takes a list of rainfall measurements (daily mm in a week) and returns the maximum and minimum rainfall values. Keys: min(), max(), lists, def"
   ]
  },
  {
   "cell_type": "code",
   "execution_count": null,
   "metadata": {},
   "outputs": [],
   "source": [
    "## Your code here down\n",
    "\n",
    "\n",
    "## Your code here up"
   ]
  },
  {
   "attachments": {},
   "cell_type": "markdown",
   "metadata": {},
   "source": [
    "## Exercise 9: Pest Control"
   ]
  },
  {
   "attachments": {},
   "cell_type": "markdown",
   "metadata": {},
   "source": [
    "Create a function that takes the count of pests detected in a field and returns a recommendation for pest control based on the count. Please search for pests and pest control measures. Keys: if-else statement, def"
   ]
  },
  {
   "cell_type": "code",
   "execution_count": null,
   "metadata": {},
   "outputs": [],
   "source": [
    "## Your code here down\n",
    "\n",
    "\n",
    "## Your code here up"
   ]
  },
  {
   "attachments": {},
   "cell_type": "markdown",
   "metadata": {},
   "source": [
    "## Exercise 10: Weed Control"
   ]
  },
  {
   "attachments": {},
   "cell_type": "markdown",
   "metadata": {},
   "source": [
    "Create a function that takes a list of weed names (search online) and suggests appropriate herbicides for weed control. Keys: For Loops and dictionary."
   ]
  },
  {
   "cell_type": "code",
   "execution_count": null,
   "metadata": {},
   "outputs": [],
   "source": [
    "## Your code here down\n",
    "\n",
    "\n",
    "## Your code here up"
   ]
  }
 ],
 "metadata": {
  "kernelspec": {
   "display_name": "Python 3 (ipykernel)",
   "language": "python",
   "name": "python3"
  },
  "language_info": {
   "codemirror_mode": {
    "name": "ipython",
    "version": 3
   },
   "file_extension": ".py",
   "mimetype": "text/x-python",
   "name": "python",
   "nbconvert_exporter": "python",
   "pygments_lexer": "ipython3",
   "version": "3.10.12"
  }
 },
 "nbformat": 4,
 "nbformat_minor": 4
}
