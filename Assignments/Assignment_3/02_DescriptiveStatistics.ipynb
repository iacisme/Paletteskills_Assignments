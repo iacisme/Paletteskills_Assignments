{
 "cells": [
  {
   "cell_type": "markdown",
   "id": "0547b724-9bff-4507-a55e-51fa701ce5bb",
   "metadata": {},
   "source": [
    "<h1 style='color:rgb(144, 12, 63)'; align=center><font size = 8> PROJECT NAME: MANITOBA CROP YIELDS ASSESSMENT FROM 2000 TO 2022 </font></h1>\n",
    "\n",
    "<h2 style='color:rgb(144, 12, 63)'; align=left><font size = 6> Notebook 02 - MANITOBA CROP YIELD DATA </font></h2>\n",
    "\n",
    "<h3 style='color:rgb(144, 12, 63)'; align=left><font size = 5> DESCRIPTIVE STATISTICS </font></h3>\n",
    "\n",
    "The purpose of this notebook is to perform descriptive analytics on the `Manitoba Crop Yield` data set."
   ]
  },
  {
   "cell_type": "markdown",
   "id": "d3d63db3-2fe6-4459-bf6e-2d6013a08a02",
   "metadata": {},
   "source": [
    "# REVISION HISTORY\n",
    "\n",
    "| REV | DESCRIPTION             | DATE           |  BY   | CHECK | APPROVE  |\n",
    "|:---:|:-----------------------:|:--------------:|:-----:|:-----:|:--------:|\n",
    "| A0  | ISSUED FOR -(HOLD)      |                |  IAC  |       |          |\n",
    "|     |                         |                |       |       |          |\n",
    "\n",
    "## DETAILED REVISION DESCRIPTION\n",
    "\n",
    "> A0 - Issued for `HOLD`"
   ]
  },
  {
   "cell_type": "markdown",
   "id": "023a030d-d78c-4390-ae95-3626fa026f06",
   "metadata": {},
   "source": [
    "# REQUIRED LIBRARIES\n",
    "\n",
    "The following libraries are required to run this notebook:"
   ]
  },
  {
   "cell_type": "code",
   "execution_count": 1,
   "id": "83e8886a-8827-4257-8767-ad5cb3630339",
   "metadata": {},
   "outputs": [],
   "source": [
    "# Library to create interactive tools\n",
    "import ipywidgets as widgets"
   ]
  },
  {
   "cell_type": "code",
   "execution_count": 2,
   "id": "69421d0d-a1b4-40ed-8ad2-830a6ae93cfe",
   "metadata": {},
   "outputs": [],
   "source": [
    "# Library to create tabular data\n",
    "import pandas as pd"
   ]
  },
  {
   "cell_type": "code",
   "execution_count": 3,
   "id": "8609c3ff-8fee-4e94-be19-60ad73ab9a8e",
   "metadata": {},
   "outputs": [],
   "source": [
    "# Plotly Graphing Libraries\n",
    "import plotly.express as px"
   ]
  },
  {
   "cell_type": "markdown",
   "id": "f61b45f9-7531-482e-a913-dbfa44174637",
   "metadata": {},
   "source": [
    "# LOADING THE DATA SETS\n",
    "\n",
    "This section discusses the scripts used to load the data into a pandas data structure\n",
    "\n",
    "## DATA PATH"
   ]
  },
  {
   "cell_type": "code",
   "execution_count": 4,
   "id": "31230975-6dd7-45bd-b469-0f2aa46565d5",
   "metadata": {},
   "outputs": [],
   "source": [
    "# The path to the Manitoba Cropy Yield data\n",
    "dataPath = \"./00_data/\""
   ]
  },
  {
   "cell_type": "markdown",
   "id": "cda3d172-09fb-4ade-ba26-189323b415ba",
   "metadata": {},
   "source": [
    "## FILE NAME"
   ]
  },
  {
   "cell_type": "code",
   "execution_count": 5,
   "id": "48c3177a-e68c-4781-a3d6-574017179da3",
   "metadata": {},
   "outputs": [],
   "source": [
    "# Filename\n",
    "cropYield_csv = \"manitobaYieldData_2022.csv\""
   ]
  },
  {
   "cell_type": "markdown",
   "id": "6bb873fc-3ea9-4836-ab79-59e156417507",
   "metadata": {},
   "source": [
    "## LOAD THE FILE"
   ]
  },
  {
   "cell_type": "code",
   "execution_count": 6,
   "id": "06254928-0c60-4f5e-bfc1-6c3db70d0792",
   "metadata": {},
   "outputs": [
    {
     "data": {
      "text/html": [
       "<div>\n",
       "<style scoped>\n",
       "    .dataframe tbody tr th:only-of-type {\n",
       "        vertical-align: middle;\n",
       "    }\n",
       "\n",
       "    .dataframe tbody tr th {\n",
       "        vertical-align: top;\n",
       "    }\n",
       "\n",
       "    .dataframe thead th {\n",
       "        text-align: right;\n",
       "    }\n",
       "</style>\n",
       "<table border=\"1\" class=\"dataframe\">\n",
       "  <thead>\n",
       "    <tr style=\"text-align: right;\">\n",
       "      <th></th>\n",
       "      <th>Year</th>\n",
       "      <th>Municipality</th>\n",
       "      <th>Crop</th>\n",
       "      <th>Soil</th>\n",
       "      <th>Farms</th>\n",
       "      <th>Acres</th>\n",
       "      <th>Yield/Acre Metric</th>\n",
       "      <th>UOM in Metric</th>\n",
       "      <th>Yield/Acre Imperial</th>\n",
       "      <th>UOM Imperial</th>\n",
       "    </tr>\n",
       "  </thead>\n",
       "  <tbody>\n",
       "    <tr>\n",
       "      <th>0</th>\n",
       "      <td>2003</td>\n",
       "      <td>MONTCALM</td>\n",
       "      <td>CANARYSEED</td>\n",
       "      <td>D</td>\n",
       "      <td>7</td>\n",
       "      <td>764</td>\n",
       "      <td>0.452</td>\n",
       "      <td>Tonnes</td>\n",
       "      <td>997.000</td>\n",
       "      <td>Pounds</td>\n",
       "    </tr>\n",
       "    <tr>\n",
       "      <th>1</th>\n",
       "      <td>2004</td>\n",
       "      <td>PIPESTONE</td>\n",
       "      <td>CANARYSEED</td>\n",
       "      <td>F</td>\n",
       "      <td>8</td>\n",
       "      <td>1180</td>\n",
       "      <td>0.449</td>\n",
       "      <td>Tonnes</td>\n",
       "      <td>991.000</td>\n",
       "      <td>Pounds</td>\n",
       "    </tr>\n",
       "    <tr>\n",
       "      <th>2</th>\n",
       "      <td>2003</td>\n",
       "      <td>BIFROST-RIVERTON</td>\n",
       "      <td>CANARYSEED</td>\n",
       "      <td>F</td>\n",
       "      <td>4</td>\n",
       "      <td>517</td>\n",
       "      <td>0.449</td>\n",
       "      <td>Tonnes</td>\n",
       "      <td>990.000</td>\n",
       "      <td>Pounds</td>\n",
       "    </tr>\n",
       "    <tr>\n",
       "      <th>3</th>\n",
       "      <td>2009</td>\n",
       "      <td>MORRIS</td>\n",
       "      <td>CANARYSEED</td>\n",
       "      <td>D</td>\n",
       "      <td>3</td>\n",
       "      <td>1072</td>\n",
       "      <td>0.444</td>\n",
       "      <td>Tonnes</td>\n",
       "      <td>980.000</td>\n",
       "      <td>Pounds</td>\n",
       "    </tr>\n",
       "    <tr>\n",
       "      <th>4</th>\n",
       "      <td>2002</td>\n",
       "      <td>ROLAND</td>\n",
       "      <td>CANARYSEED</td>\n",
       "      <td>D</td>\n",
       "      <td>6</td>\n",
       "      <td>981</td>\n",
       "      <td>0.439</td>\n",
       "      <td>Tonnes</td>\n",
       "      <td>968.000</td>\n",
       "      <td>Pounds</td>\n",
       "    </tr>\n",
       "    <tr>\n",
       "      <th>...</th>\n",
       "      <td>...</td>\n",
       "      <td>...</td>\n",
       "      <td>...</td>\n",
       "      <td>...</td>\n",
       "      <td>...</td>\n",
       "      <td>...</td>\n",
       "      <td>...</td>\n",
       "      <td>...</td>\n",
       "      <td>...</td>\n",
       "      <td>...</td>\n",
       "    </tr>\n",
       "    <tr>\n",
       "      <th>24882</th>\n",
       "      <td>2021</td>\n",
       "      <td>WEST INTERLAKE</td>\n",
       "      <td>ALFALFA</td>\n",
       "      <td>G</td>\n",
       "      <td>10</td>\n",
       "      <td>673</td>\n",
       "      <td>0.345</td>\n",
       "      <td>Tonnes</td>\n",
       "      <td>0.381</td>\n",
       "      <td>Tons</td>\n",
       "    </tr>\n",
       "    <tr>\n",
       "      <th>24883</th>\n",
       "      <td>2021</td>\n",
       "      <td>WEST INTERLAKE</td>\n",
       "      <td>ALFALFA</td>\n",
       "      <td>H</td>\n",
       "      <td>14</td>\n",
       "      <td>862</td>\n",
       "      <td>0.302</td>\n",
       "      <td>Tonnes</td>\n",
       "      <td>0.332</td>\n",
       "      <td>Tons</td>\n",
       "    </tr>\n",
       "    <tr>\n",
       "      <th>24884</th>\n",
       "      <td>2005</td>\n",
       "      <td>GREY</td>\n",
       "      <td>ARGENTINE CANOLA</td>\n",
       "      <td>E</td>\n",
       "      <td>3</td>\n",
       "      <td>595</td>\n",
       "      <td>0.007</td>\n",
       "      <td>Tonnes</td>\n",
       "      <td>0.300</td>\n",
       "      <td>Bushels</td>\n",
       "    </tr>\n",
       "    <tr>\n",
       "      <th>24885</th>\n",
       "      <td>2021</td>\n",
       "      <td>HANOVER</td>\n",
       "      <td>ALFALFA</td>\n",
       "      <td>E</td>\n",
       "      <td>5</td>\n",
       "      <td>543</td>\n",
       "      <td>0.233</td>\n",
       "      <td>Tonnes</td>\n",
       "      <td>0.257</td>\n",
       "      <td>Tons</td>\n",
       "    </tr>\n",
       "    <tr>\n",
       "      <th>24886</th>\n",
       "      <td>2019</td>\n",
       "      <td>LOUISE</td>\n",
       "      <td>FLAX</td>\n",
       "      <td>E</td>\n",
       "      <td>3</td>\n",
       "      <td>592</td>\n",
       "      <td>0.000</td>\n",
       "      <td>Tonnes</td>\n",
       "      <td>0.000</td>\n",
       "      <td>Bushels</td>\n",
       "    </tr>\n",
       "  </tbody>\n",
       "</table>\n",
       "<p>24887 rows × 10 columns</p>\n",
       "</div>"
      ],
      "text/plain": [
       "       Year      Municipality              Crop Soil  Farms  Acres  \\\n",
       "0      2003          MONTCALM        CANARYSEED    D      7    764   \n",
       "1      2004         PIPESTONE        CANARYSEED    F      8   1180   \n",
       "2      2003  BIFROST-RIVERTON        CANARYSEED    F      4    517   \n",
       "3      2009            MORRIS        CANARYSEED    D      3   1072   \n",
       "4      2002            ROLAND        CANARYSEED    D      6    981   \n",
       "...     ...               ...               ...  ...    ...    ...   \n",
       "24882  2021    WEST INTERLAKE           ALFALFA    G     10    673   \n",
       "24883  2021    WEST INTERLAKE           ALFALFA    H     14    862   \n",
       "24884  2005              GREY  ARGENTINE CANOLA    E      3    595   \n",
       "24885  2021           HANOVER           ALFALFA    E      5    543   \n",
       "24886  2019            LOUISE              FLAX    E      3    592   \n",
       "\n",
       "       Yield/Acre Metric UOM in Metric  Yield/Acre Imperial UOM Imperial  \n",
       "0                  0.452        Tonnes              997.000       Pounds  \n",
       "1                  0.449        Tonnes              991.000       Pounds  \n",
       "2                  0.449        Tonnes              990.000       Pounds  \n",
       "3                  0.444        Tonnes              980.000       Pounds  \n",
       "4                  0.439        Tonnes              968.000       Pounds  \n",
       "...                  ...           ...                  ...          ...  \n",
       "24882              0.345        Tonnes                0.381         Tons  \n",
       "24883              0.302        Tonnes                0.332         Tons  \n",
       "24884              0.007        Tonnes                0.300      Bushels  \n",
       "24885              0.233        Tonnes                0.257         Tons  \n",
       "24886              0.000        Tonnes                0.000      Bushels  \n",
       "\n",
       "[24887 rows x 10 columns]"
      ]
     },
     "execution_count": 6,
     "metadata": {},
     "output_type": "execute_result"
    }
   ],
   "source": [
    "# Load the dataset into memory\n",
    "manitobaCropYield_df = pd.read_csv(dataPath + cropYield_csv)\n",
    "\n",
    "manitobaCropYield_df"
   ]
  },
  {
   "cell_type": "markdown",
   "id": "53a2297d-78ab-42a2-870c-bab5dc29e131",
   "metadata": {},
   "source": [
    "# HISTOGRAMS"
   ]
  },
  {
   "cell_type": "markdown",
   "id": "c95cd525-f19a-4ec6-a66e-2dbf168b9a0e",
   "metadata": {},
   "source": [
    "## ENTIRE DATA SET\n",
    "\n",
    "### DROPDOWN WIDGETS"
   ]
  },
  {
   "cell_type": "code",
   "execution_count": 7,
   "id": "16714aff-4a67-4707-80c0-066ea071a7e8",
   "metadata": {},
   "outputs": [
    {
     "data": {
      "text/plain": [
       "['Year',\n",
       " 'Municipality',\n",
       " 'Crop',\n",
       " 'Soil',\n",
       " 'Farms',\n",
       " 'Acres',\n",
       " 'Yield/Acre Metric',\n",
       " 'UOM in Metric',\n",
       " 'Yield/Acre Imperial',\n",
       " 'UOM Imperial']"
      ]
     },
     "execution_count": 7,
     "metadata": {},
     "output_type": "execute_result"
    }
   ],
   "source": [
    "# Generate a list of features\n",
    "features_list = manitobaCropYield_df.columns.tolist()\n",
    "\n",
    "features_list"
   ]
  },
  {
   "cell_type": "code",
   "execution_count": 8,
   "id": "4b015d18-3931-4e7c-b1a5-bcb5d5dd81ac",
   "metadata": {},
   "outputs": [],
   "source": [
    "# Create a feature drop down widget\n",
    "featuresDropdown_widget = widgets.Dropdown(\n",
    "    options = features_list,\n",
    "    value = features_list[0],\n",
    "    description = 'Feature:',\n",
    "    disabled = False,\n",
    ")"
   ]
  },
  {
   "cell_type": "code",
   "execution_count": 9,
   "id": "531d7e03-a0c0-4039-94b6-98516716c84b",
   "metadata": {},
   "outputs": [],
   "source": [
    "# Create a feature drop down widget\n",
    "featuresDropdown_widget = widgets.Dropdown(\n",
    "    options = features_list,\n",
    "    value = features_list[0],\n",
    "    description = 'Feature:',\n",
    "    disabled = False,\n",
    ")"
   ]
  },
  {
   "cell_type": "code",
   "execution_count": 10,
   "id": "bb677e31-79d7-49d8-9bf7-93e6d19e37f3",
   "metadata": {},
   "outputs": [],
   "source": [
    "# Create a list of marginals\n",
    "marginal_list = [\n",
    "    None,\n",
    "    'box',\n",
    "    'violin',\n",
    "    'rug'\n",
    "]"
   ]
  },
  {
   "cell_type": "code",
   "execution_count": 11,
   "id": "efbf5f6c-cd89-4865-8f3c-9ed178653503",
   "metadata": {},
   "outputs": [],
   "source": [
    "# Create a marginal drop down widget\n",
    "marginalsDropdown_widget = widgets.Dropdown(\n",
    "    options = marginal_list,\n",
    "    value = marginal_list[0],\n",
    "    description = 'Marginal:',\n",
    "    disabled = False,\n",
    ")"
   ]
  },
  {
   "cell_type": "markdown",
   "id": "7f06cb87-fd1b-47cb-a199-fa765720bf10",
   "metadata": {},
   "source": [
    "### DISPLAY DATA"
   ]
  },
  {
   "cell_type": "code",
   "execution_count": 12,
   "id": "e1cb8e52-da29-4936-a4ec-1c7eb2f9587b",
   "metadata": {},
   "outputs": [
    {
     "data": {
      "application/vnd.jupyter.widget-view+json": {
       "model_id": "3cd90dfd03fe4e60b9606933221573e1",
       "version_major": 2,
       "version_minor": 0
      },
      "text/plain": [
       "interactive(children=(Dropdown(description='Feature:', options=('Year', 'Municipality', 'Crop', 'Soil', 'Farms…"
      ]
     },
     "metadata": {},
     "output_type": "display_data"
    }
   ],
   "source": [
    "# Visually inspect the features found in this data set\n",
    "@widgets.interact(\n",
    "    feature = featuresDropdown_widget,\n",
    "    marg = marginalsDropdown_widget\n",
    ")\n",
    "def HistInspection(feature, marg):\n",
    "    \"\"\"\n",
    "        Callback function that display a histogram of the feature selected\n",
    "        using the dropdown widget.\n",
    "\n",
    "        Function works by using the input from the dropdown to select a feature\n",
    "        to display, along with having pandas describe the feature to the user\n",
    "    \"\"\"\n",
    "    # Create a ploty histogram object\n",
    "    fig = px.histogram(\n",
    "        manitobaCropYield_df,\n",
    "        x = feature,\n",
    "        marginal = marg,\n",
    "        category_orders = {\n",
    "            'Crop' : sorted(manitobaCropYield_df['Crop'].unique().tolist()),\n",
    "            'Municipality' : sorted(manitobaCropYield_df['Municipality'].unique().tolist()),\n",
    "            'Soil' : sorted(manitobaCropYield_df['Soil'].unique().tolist())\n",
    "        },\n",
    "    )\n",
    "    \n",
    "    # Update fig properties such as title and size\n",
    "    fig.update_layout(\n",
    "        title = f\"Feature name: {feature}\",\n",
    "        height = 600,\n",
    "        width = 800\n",
    "    )\n",
    "\n",
    "    # Display the figure and have pandas describe the feature data\n",
    "    return fig.show(), manitobaCropYield_df[feature].describe()"
   ]
  },
  {
   "cell_type": "markdown",
   "id": "8840f3c5-e147-4b06-ae67-7900abe719ba",
   "metadata": {},
   "source": [
    "## CROP YIELD DATA"
   ]
  },
  {
   "cell_type": "code",
   "execution_count": 13,
   "id": "65a2068d-eb68-4702-a0a9-2a3d8156fbe8",
   "metadata": {},
   "outputs": [
    {
     "data": {
      "text/plain": [
       "['ALFALFA',\n",
       " 'ARGENTINE CANOLA',\n",
       " 'BARLEY',\n",
       " 'CANARYSEED',\n",
       " 'DURUM WHEAT',\n",
       " 'FABABEANS',\n",
       " 'FIELD PEAS',\n",
       " 'FLAX',\n",
       " 'LENTILS',\n",
       " 'OATS',\n",
       " 'WINTER WHEAT']"
      ]
     },
     "execution_count": 13,
     "metadata": {},
     "output_type": "execute_result"
    }
   ],
   "source": [
    "# Create a list of crops to analyze\n",
    "crop_list = sorted(manitobaCropYield_df['Crop'].unique().tolist())\n",
    "\n",
    "crop_list"
   ]
  },
  {
   "cell_type": "code",
   "execution_count": 14,
   "id": "d6c44778-ce19-4968-a8b7-d05502c50304",
   "metadata": {},
   "outputs": [],
   "source": [
    "# Create a crop selection drop down widget\n",
    "cropYieldDropdown_widget = widgets.Dropdown(\n",
    "    options = crop_list,\n",
    "    value = crop_list[0],\n",
    "    description = 'Crops:',\n",
    "    disabled = False,\n",
    ")"
   ]
  },
  {
   "cell_type": "code",
   "execution_count": 15,
   "id": "5fb00957-4f83-4de2-b462-b07e76d88d1c",
   "metadata": {},
   "outputs": [
    {
     "data": {
      "application/vnd.jupyter.widget-view+json": {
       "model_id": "254a6068c70c4ad28e0d48bd53d80ea4",
       "version_major": 2,
       "version_minor": 0
      },
      "text/plain": [
       "interactive(children=(Dropdown(description='Crops:', options=('ALFALFA', 'ARGENTINE CANOLA', 'BARLEY', 'CANARY…"
      ]
     },
     "metadata": {},
     "output_type": "display_data"
    }
   ],
   "source": [
    "@widgets.interact(crop = cropYieldDropdown_widget)\n",
    "def cropYieldAnalyis(crop):\n",
    "    # Create a filtered query of the crop\n",
    "    crop_df = manitobaCropYield_df[manitobaCropYield_df['Crop'] == crop]\n",
    "\n",
    "    # Generate a visual\n",
    "    cropYield_fig = px.histogram(\n",
    "        crop_df,\n",
    "        x = \"Year\",\n",
    "        y = \"Yield/Acre Imperial\",\n",
    "        color = 'Soil',\n",
    "        category_orders = {\n",
    "            'Soil' : sorted(crop_df['Soil'].unique().tolist())\n",
    "        },\n",
    "        barmode = 'group',\n",
    "        color_discrete_sequence = px.colors.qualitative.Dark24,\n",
    "    )\n",
    "\n",
    "    figTitle = f\"Yield comparison by soil type from 2000 to 2022 for: {crop}\"\n",
    "\n",
    "    cropYield_fig.update_layout(\n",
    "        width = 1200,\n",
    "        height = 800,\n",
    "        title = figTitle,\n",
    "    )\n",
    "\n",
    "    cropYield_fig .show()"
   ]
  },
  {
   "cell_type": "markdown",
   "id": "5955a178-e50c-4b4e-b678-951fe2bf37f5",
   "metadata": {},
   "source": [
    "# CONCLUSION\n",
    "\n",
    "The focus of the analytics in the next section will be to futher understand the realationship between crop yiled and soil type."
   ]
  }
 ],
 "metadata": {
  "kernelspec": {
   "display_name": "Python 3 (ipykernel)",
   "language": "python",
   "name": "python3"
  },
  "language_info": {
   "codemirror_mode": {
    "name": "ipython",
    "version": 3
   },
   "file_extension": ".py",
   "mimetype": "text/x-python",
   "name": "python",
   "nbconvert_exporter": "python",
   "pygments_lexer": "ipython3",
   "version": "3.10.12"
  }
 },
 "nbformat": 4,
 "nbformat_minor": 5
}
